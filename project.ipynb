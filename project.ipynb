{
 "cells": [
  {
   "attachments": {},
   "cell_type": "markdown",
   "id": "innocent-university",
   "metadata": {},
   "source": [
    "# Real Estate Clean up\n",
    "\n",
    "This is a real dataset and it was downloaded using web scraping techniques. The data contains registers from fotocasa which is one of the most popular websites of real estate in Spain. Please, do not do this (web scraping) unless it is for academic purposes.\n",
    "\n",
    "The dataset was downloaded a few years ago by Henry Navarro and In no case were economic returns obtained from it.\n",
    "\n",
    "It contains thousands of data from real houses published on the web www.fotocasa.com. Your goal is to extract as much information as possible with the knowledge you have so far about data science, for example what is the most expensive house in the entire dataset?\n",
    "\n",
    "Let's start with precisely that question... Good luck!"
   ]
  },
  {
   "attachments": {},
   "cell_type": "markdown",
   "id": "multiple-glass",
   "metadata": {},
   "source": [
    "#### Exercise 00. Read the dataset assets/real_estate.csv and try to visualize the table (★☆☆)"
   ]
  },
  {
   "cell_type": "code",
   "execution_count": 3,
   "id": "frank-heath",
   "metadata": {},
   "outputs": [
    {
     "data": {
      "text/html": [
       "<div>\n",
       "<style scoped>\n",
       "    .dataframe tbody tr th:only-of-type {\n",
       "        vertical-align: middle;\n",
       "    }\n",
       "\n",
       "    .dataframe tbody tr th {\n",
       "        vertical-align: top;\n",
       "    }\n",
       "\n",
       "    .dataframe thead th {\n",
       "        text-align: right;\n",
       "    }\n",
       "</style>\n",
       "<table border=\"1\" class=\"dataframe\">\n",
       "  <thead>\n",
       "    <tr style=\"text-align: right;\">\n",
       "      <th></th>\n",
       "      <th>Unnamed: 0</th>\n",
       "      <th>id_realEstates</th>\n",
       "      <th>isNew</th>\n",
       "      <th>realEstate_name</th>\n",
       "      <th>phone_realEstate</th>\n",
       "      <th>url_inmueble</th>\n",
       "      <th>rooms</th>\n",
       "      <th>bathrooms</th>\n",
       "      <th>surface</th>\n",
       "      <th>price</th>\n",
       "      <th>...</th>\n",
       "      <th>level4Id</th>\n",
       "      <th>level5Id</th>\n",
       "      <th>level6Id</th>\n",
       "      <th>level7Id</th>\n",
       "      <th>level8Id</th>\n",
       "      <th>accuracy</th>\n",
       "      <th>latitude</th>\n",
       "      <th>longitude</th>\n",
       "      <th>zipCode</th>\n",
       "      <th>customZone</th>\n",
       "    </tr>\n",
       "  </thead>\n",
       "  <tbody>\n",
       "    <tr>\n",
       "      <th>0</th>\n",
       "      <td>1</td>\n",
       "      <td>153771986</td>\n",
       "      <td>False</td>\n",
       "      <td>ferrari 57 inmobiliaria</td>\n",
       "      <td>912177526.0</td>\n",
       "      <td>https://www.fotocasa.es/es/comprar/vivienda/ma...</td>\n",
       "      <td>3.0</td>\n",
       "      <td>2.0</td>\n",
       "      <td>103.0</td>\n",
       "      <td>195000</td>\n",
       "      <td>...</td>\n",
       "      <td>0</td>\n",
       "      <td>0</td>\n",
       "      <td>0</td>\n",
       "      <td>0</td>\n",
       "      <td>0</td>\n",
       "      <td>0</td>\n",
       "      <td>40,2948276786438</td>\n",
       "      <td>-3,44402412135624</td>\n",
       "      <td>NaN</td>\n",
       "      <td>NaN</td>\n",
       "    </tr>\n",
       "    <tr>\n",
       "      <th>1</th>\n",
       "      <td>2</td>\n",
       "      <td>153867863</td>\n",
       "      <td>False</td>\n",
       "      <td>tecnocasa fuenlabrada ferrocarril</td>\n",
       "      <td>916358736.0</td>\n",
       "      <td>https://www.fotocasa.es/es/comprar/vivienda/ma...</td>\n",
       "      <td>3.0</td>\n",
       "      <td>1.0</td>\n",
       "      <td>NaN</td>\n",
       "      <td>89000</td>\n",
       "      <td>...</td>\n",
       "      <td>0</td>\n",
       "      <td>0</td>\n",
       "      <td>0</td>\n",
       "      <td>0</td>\n",
       "      <td>0</td>\n",
       "      <td>1</td>\n",
       "      <td>40,28674</td>\n",
       "      <td>-3,79351</td>\n",
       "      <td>NaN</td>\n",
       "      <td>NaN</td>\n",
       "    </tr>\n",
       "    <tr>\n",
       "      <th>2</th>\n",
       "      <td>3</td>\n",
       "      <td>153430440</td>\n",
       "      <td>False</td>\n",
       "      <td>look find boadilla</td>\n",
       "      <td>916350408.0</td>\n",
       "      <td>https://www.fotocasa.es/es/comprar/vivienda/ma...</td>\n",
       "      <td>2.0</td>\n",
       "      <td>2.0</td>\n",
       "      <td>99.0</td>\n",
       "      <td>390000</td>\n",
       "      <td>...</td>\n",
       "      <td>0</td>\n",
       "      <td>0</td>\n",
       "      <td>0</td>\n",
       "      <td>0</td>\n",
       "      <td>0</td>\n",
       "      <td>0</td>\n",
       "      <td>40,4115646786438</td>\n",
       "      <td>-3,90662252135624</td>\n",
       "      <td>NaN</td>\n",
       "      <td>NaN</td>\n",
       "    </tr>\n",
       "    <tr>\n",
       "      <th>3</th>\n",
       "      <td>4</td>\n",
       "      <td>152776331</td>\n",
       "      <td>False</td>\n",
       "      <td>tecnocasa fuenlabrada ferrocarril</td>\n",
       "      <td>916358736.0</td>\n",
       "      <td>https://www.fotocasa.es/es/comprar/vivienda/ma...</td>\n",
       "      <td>3.0</td>\n",
       "      <td>1.0</td>\n",
       "      <td>86.0</td>\n",
       "      <td>89000</td>\n",
       "      <td>...</td>\n",
       "      <td>0</td>\n",
       "      <td>0</td>\n",
       "      <td>0</td>\n",
       "      <td>0</td>\n",
       "      <td>0</td>\n",
       "      <td>0</td>\n",
       "      <td>40,2853785786438</td>\n",
       "      <td>-3,79508142135624</td>\n",
       "      <td>NaN</td>\n",
       "      <td>NaN</td>\n",
       "    </tr>\n",
       "    <tr>\n",
       "      <th>4</th>\n",
       "      <td>5</td>\n",
       "      <td>153180188</td>\n",
       "      <td>False</td>\n",
       "      <td>ferrari 57 inmobiliaria</td>\n",
       "      <td>912177526.0</td>\n",
       "      <td>https://www.fotocasa.es/es/comprar/vivienda/ma...</td>\n",
       "      <td>2.0</td>\n",
       "      <td>2.0</td>\n",
       "      <td>106.0</td>\n",
       "      <td>172000</td>\n",
       "      <td>...</td>\n",
       "      <td>0</td>\n",
       "      <td>0</td>\n",
       "      <td>0</td>\n",
       "      <td>0</td>\n",
       "      <td>0</td>\n",
       "      <td>0</td>\n",
       "      <td>40,2998774864376</td>\n",
       "      <td>-3,45226301356237</td>\n",
       "      <td>NaN</td>\n",
       "      <td>NaN</td>\n",
       "    </tr>\n",
       "    <tr>\n",
       "      <th>...</th>\n",
       "      <td>...</td>\n",
       "      <td>...</td>\n",
       "      <td>...</td>\n",
       "      <td>...</td>\n",
       "      <td>...</td>\n",
       "      <td>...</td>\n",
       "      <td>...</td>\n",
       "      <td>...</td>\n",
       "      <td>...</td>\n",
       "      <td>...</td>\n",
       "      <td>...</td>\n",
       "      <td>...</td>\n",
       "      <td>...</td>\n",
       "      <td>...</td>\n",
       "      <td>...</td>\n",
       "      <td>...</td>\n",
       "      <td>...</td>\n",
       "      <td>...</td>\n",
       "      <td>...</td>\n",
       "      <td>...</td>\n",
       "      <td>...</td>\n",
       "    </tr>\n",
       "    <tr>\n",
       "      <th>15330</th>\n",
       "      <td>15331</td>\n",
       "      <td>153901377</td>\n",
       "      <td>False</td>\n",
       "      <td>infocasa consulting</td>\n",
       "      <td>911360461.0</td>\n",
       "      <td>https://www.fotocasa.es/es/comprar/vivienda/ma...</td>\n",
       "      <td>2.0</td>\n",
       "      <td>1.0</td>\n",
       "      <td>96.0</td>\n",
       "      <td>259470</td>\n",
       "      <td>...</td>\n",
       "      <td>0</td>\n",
       "      <td>0</td>\n",
       "      <td>0</td>\n",
       "      <td>0</td>\n",
       "      <td>0</td>\n",
       "      <td>0</td>\n",
       "      <td>40,45416</td>\n",
       "      <td>-3,70286</td>\n",
       "      <td>NaN</td>\n",
       "      <td>NaN</td>\n",
       "    </tr>\n",
       "    <tr>\n",
       "      <th>15331</th>\n",
       "      <td>15332</td>\n",
       "      <td>150394373</td>\n",
       "      <td>False</td>\n",
       "      <td>inmobiliaria pulpon</td>\n",
       "      <td>912788039.0</td>\n",
       "      <td>https://www.fotocasa.es/es/comprar/vivienda/ma...</td>\n",
       "      <td>3.0</td>\n",
       "      <td>1.0</td>\n",
       "      <td>150.0</td>\n",
       "      <td>165000</td>\n",
       "      <td>...</td>\n",
       "      <td>0</td>\n",
       "      <td>0</td>\n",
       "      <td>0</td>\n",
       "      <td>0</td>\n",
       "      <td>0</td>\n",
       "      <td>0</td>\n",
       "      <td>40,36652</td>\n",
       "      <td>-3,48951</td>\n",
       "      <td>NaN</td>\n",
       "      <td>NaN</td>\n",
       "    </tr>\n",
       "    <tr>\n",
       "      <th>15332</th>\n",
       "      <td>15333</td>\n",
       "      <td>153901397</td>\n",
       "      <td>False</td>\n",
       "      <td>tecnocasa torrelodones</td>\n",
       "      <td>912780348.0</td>\n",
       "      <td>https://www.fotocasa.es/es/comprar/vivienda/ma...</td>\n",
       "      <td>4.0</td>\n",
       "      <td>2.0</td>\n",
       "      <td>175.0</td>\n",
       "      <td>495000</td>\n",
       "      <td>...</td>\n",
       "      <td>0</td>\n",
       "      <td>0</td>\n",
       "      <td>0</td>\n",
       "      <td>0</td>\n",
       "      <td>0</td>\n",
       "      <td>0</td>\n",
       "      <td>40,57444</td>\n",
       "      <td>-3,92124</td>\n",
       "      <td>NaN</td>\n",
       "      <td>NaN</td>\n",
       "    </tr>\n",
       "    <tr>\n",
       "      <th>15333</th>\n",
       "      <td>15334</td>\n",
       "      <td>152607440</td>\n",
       "      <td>False</td>\n",
       "      <td>inmobiliaria pulpon</td>\n",
       "      <td>912788039.0</td>\n",
       "      <td>https://www.fotocasa.es/es/comprar/vivienda/ma...</td>\n",
       "      <td>3.0</td>\n",
       "      <td>2.0</td>\n",
       "      <td>101.0</td>\n",
       "      <td>195000</td>\n",
       "      <td>...</td>\n",
       "      <td>0</td>\n",
       "      <td>0</td>\n",
       "      <td>0</td>\n",
       "      <td>0</td>\n",
       "      <td>0</td>\n",
       "      <td>0</td>\n",
       "      <td>40,36967</td>\n",
       "      <td>-3,48105</td>\n",
       "      <td>NaN</td>\n",
       "      <td>NaN</td>\n",
       "    </tr>\n",
       "    <tr>\n",
       "      <th>15334</th>\n",
       "      <td>15335</td>\n",
       "      <td>153901356</td>\n",
       "      <td>False</td>\n",
       "      <td>infocasa consulting</td>\n",
       "      <td>911360461.0</td>\n",
       "      <td>https://www.fotocasa.es/es/comprar/vivienda/ma...</td>\n",
       "      <td>3.0</td>\n",
       "      <td>2.0</td>\n",
       "      <td>152.0</td>\n",
       "      <td>765000</td>\n",
       "      <td>...</td>\n",
       "      <td>0</td>\n",
       "      <td>0</td>\n",
       "      <td>0</td>\n",
       "      <td>0</td>\n",
       "      <td>0</td>\n",
       "      <td>0</td>\n",
       "      <td>40,45773</td>\n",
       "      <td>-3,69068</td>\n",
       "      <td>NaN</td>\n",
       "      <td>NaN</td>\n",
       "    </tr>\n",
       "  </tbody>\n",
       "</table>\n",
       "<p>15335 rows × 37 columns</p>\n",
       "</div>"
      ],
      "text/plain": [
       "       Unnamed: 0  id_realEstates  isNew                    realEstate_name  \\\n",
       "0               1       153771986  False            ferrari 57 inmobiliaria   \n",
       "1               2       153867863  False  tecnocasa fuenlabrada ferrocarril   \n",
       "2               3       153430440  False                 look find boadilla   \n",
       "3               4       152776331  False  tecnocasa fuenlabrada ferrocarril   \n",
       "4               5       153180188  False            ferrari 57 inmobiliaria   \n",
       "...           ...             ...    ...                                ...   \n",
       "15330       15331       153901377  False                infocasa consulting   \n",
       "15331       15332       150394373  False                inmobiliaria pulpon   \n",
       "15332       15333       153901397  False             tecnocasa torrelodones   \n",
       "15333       15334       152607440  False                inmobiliaria pulpon   \n",
       "15334       15335       153901356  False                infocasa consulting   \n",
       "\n",
       "       phone_realEstate                                       url_inmueble  \\\n",
       "0           912177526.0  https://www.fotocasa.es/es/comprar/vivienda/ma...   \n",
       "1           916358736.0  https://www.fotocasa.es/es/comprar/vivienda/ma...   \n",
       "2           916350408.0  https://www.fotocasa.es/es/comprar/vivienda/ma...   \n",
       "3           916358736.0  https://www.fotocasa.es/es/comprar/vivienda/ma...   \n",
       "4           912177526.0  https://www.fotocasa.es/es/comprar/vivienda/ma...   \n",
       "...                 ...                                                ...   \n",
       "15330       911360461.0  https://www.fotocasa.es/es/comprar/vivienda/ma...   \n",
       "15331       912788039.0  https://www.fotocasa.es/es/comprar/vivienda/ma...   \n",
       "15332       912780348.0  https://www.fotocasa.es/es/comprar/vivienda/ma...   \n",
       "15333       912788039.0  https://www.fotocasa.es/es/comprar/vivienda/ma...   \n",
       "15334       911360461.0  https://www.fotocasa.es/es/comprar/vivienda/ma...   \n",
       "\n",
       "       rooms  bathrooms  surface   price  ... level4Id level5Id level6Id  \\\n",
       "0        3.0        2.0    103.0  195000  ...        0        0        0   \n",
       "1        3.0        1.0      NaN   89000  ...        0        0        0   \n",
       "2        2.0        2.0     99.0  390000  ...        0        0        0   \n",
       "3        3.0        1.0     86.0   89000  ...        0        0        0   \n",
       "4        2.0        2.0    106.0  172000  ...        0        0        0   \n",
       "...      ...        ...      ...     ...  ...      ...      ...      ...   \n",
       "15330    2.0        1.0     96.0  259470  ...        0        0        0   \n",
       "15331    3.0        1.0    150.0  165000  ...        0        0        0   \n",
       "15332    4.0        2.0    175.0  495000  ...        0        0        0   \n",
       "15333    3.0        2.0    101.0  195000  ...        0        0        0   \n",
       "15334    3.0        2.0    152.0  765000  ...        0        0        0   \n",
       "\n",
       "      level7Id level8Id accuracy          latitude          longitude zipCode  \\\n",
       "0            0        0        0  40,2948276786438  -3,44402412135624     NaN   \n",
       "1            0        0        1          40,28674           -3,79351     NaN   \n",
       "2            0        0        0  40,4115646786438  -3,90662252135624     NaN   \n",
       "3            0        0        0  40,2853785786438  -3,79508142135624     NaN   \n",
       "4            0        0        0  40,2998774864376  -3,45226301356237     NaN   \n",
       "...        ...      ...      ...               ...                ...     ...   \n",
       "15330        0        0        0          40,45416           -3,70286     NaN   \n",
       "15331        0        0        0          40,36652           -3,48951     NaN   \n",
       "15332        0        0        0          40,57444           -3,92124     NaN   \n",
       "15333        0        0        0          40,36967           -3,48105     NaN   \n",
       "15334        0        0        0          40,45773           -3,69068     NaN   \n",
       "\n",
       "      customZone  \n",
       "0            NaN  \n",
       "1            NaN  \n",
       "2            NaN  \n",
       "3            NaN  \n",
       "4            NaN  \n",
       "...          ...  \n",
       "15330        NaN  \n",
       "15331        NaN  \n",
       "15332        NaN  \n",
       "15333        NaN  \n",
       "15334        NaN  \n",
       "\n",
       "[15335 rows x 37 columns]"
      ]
     },
     "execution_count": 3,
     "metadata": {},
     "output_type": "execute_result"
    }
   ],
   "source": [
    "import pandas as pd\n",
    "\n",
    "# this CSV file contains semicolons instead of comas as separator\n",
    "ds = pd.read_csv('assets/real_estate.csv', sep=';')\n",
    "ds"
   ]
  },
  {
   "attachments": {},
   "cell_type": "markdown",
   "id": "latin-guest",
   "metadata": {},
   "source": [
    "#### Exercise 01. Which is the most expensive house in the dataset? (★☆☆)\n",
    "\n",
    "Print the address and the price of the selected house. For example:\n",
    "\n",
    "`The house with address General Street Nº5 is the most expensive and its price is 5000000 USD`"
   ]
  },
  {
   "cell_type": "code",
   "execution_count": 20,
   "id": "developing-optimum",
   "metadata": {},
   "outputs": [
    {
     "name": "stdout",
     "output_type": "stream",
     "text": [
      "The house with address El Escorial is the most expensive and its price is 8500000 USD.\n"
     ]
    }
   ],
   "source": [
    "# TODO\n",
    "import pandas as pd\n",
    "\n",
    "# this CSV file contains semicolons instead of comas as separator\n",
    "ds = pd.read_csv('assets/real_estate.csv', sep=';')\n",
    "most_expensive = ds.loc[ds.price.idxmax()]\n",
    "print(\"The house with address \" + most_expensive.address + \" is the most expensive and its price is \" + str(most_expensive.price) + \" USD.\")\n",
    "#print(most_expensive.to_string(index = False,columns=[\"address\", \"price\"] ))"
   ]
  },
  {
   "attachments": {},
   "cell_type": "markdown",
   "id": "lesser-cosmetic",
   "metadata": {},
   "source": [
    "#### Exercise 02. Which is cheapest house in the dataset? (★☆☆)\n",
    "\n",
    "Print the address and the price of the selected house. For example:\n",
    "\n",
    "`The house with address Concrete Street Nº1 is the cheapest and its price is 12000 USD`"
   ]
  },
  {
   "cell_type": "code",
   "execution_count": 23,
   "id": "lovely-oasis",
   "metadata": {},
   "outputs": [
    {
     "name": "stdout",
     "output_type": "stream",
     "text": [
      "The house with address Parla is the cheapest and its price is 0 USD.\n"
     ]
    }
   ],
   "source": [
    "# TODO\n",
    "import pandas as pd\n",
    "\n",
    "# this CSV file contains semicolons instead of comas as separator\n",
    "ds = pd.read_csv('assets/real_estate.csv', sep=';')\n",
    "cheapest = ds.loc[ds.price.idxmin()]\n",
    "print(\"The house with address \" + cheapest.address + \" is the cheapest and its price is \" + str(cheapest.price) + \" USD.\")"
   ]
  },
  {
   "attachments": {},
   "cell_type": "markdown",
   "id": "compliant-fellowship",
   "metadata": {},
   "source": [
    "#### Exercise 03. Which is the biggest and the smallest house in the dataset? (★☆☆)\n",
    "\n",
    "Print both the address and the surface of the selected houses. For example:\n",
    "\n",
    "`The bigger house is located on Yukka Street Nº10 and its surface is 5000 meters`\n",
    "\n",
    "`The smaller house is located on County Road 1 N and its surface is 200 meters`"
   ]
  },
  {
   "cell_type": "code",
   "execution_count": 26,
   "id": "every-tiffany",
   "metadata": {},
   "outputs": [
    {
     "name": "stdout",
     "output_type": "stream",
     "text": [
      "The bigger house is located on Sevilla la Nueva and its surface is 249000.0 meters.\n",
      "The smaller house is located on Parla and its surface is 262.0 meters.\n"
     ]
    }
   ],
   "source": [
    "# TODO\n",
    "import pandas as pd\n",
    "\n",
    "# this CSV file contains semicolons instead of comas as separator\n",
    "ds = pd.read_csv('assets/real_estate.csv', sep=';')\n",
    "smallest = ds.loc[ds.surface.idxmin()]\n",
    "biggest = ds.loc[ds.surface.idxmax()]\n",
    "print(\"The bigger house is located on \" + biggest.address + \" and its surface is \" + str(biggest.surface) + \" meters.\")\n",
    "print(\"The smaller house is located on \" + cheapest.address + \" and its surface is \" + str(cheapest.surface) + \" meters.\")"
   ]
  },
  {
   "attachments": {},
   "cell_type": "markdown",
   "id": "danish-spirit",
   "metadata": {},
   "source": [
    "#### Exercise 04. How many populations (level5 column) the dataset contains? (★☆☆)\n",
    "\n",
    "Print the name of the populations with comma as separator. For example:\n",
    "\n",
    "`> print(populations)`\n",
    "\n",
    "`population1, population2, population3,...`"
   ]
  },
  {
   "cell_type": "code",
   "execution_count": 3,
   "id": "exciting-accreditation",
   "metadata": {},
   "outputs": [
    {
     "name": "stdout",
     "output_type": "stream",
     "text": [
      "Arganda del Rey, Fuenlabrada, Boadilla del Monte, Las Rozas de Madrid,  Madrid Capital, Villaviciosa de Odón, Pinto, Valdemoro, Navalcarnero, Pozuelo de Alarcón, Torrejón de Ardoz, Navalagamella, San Sebastián de los Reyes, Rivas-vaciamadrid, Alpedrete, Móstoles, San Fernando de Henares, Coslada, Becerril de la Sierra, Alcalá de Henares, Chinchón, Parla, Alcorcón, El Escorial, Leganés, Pedrezuela, Majadahonda, Villanueva de la Cañada, Villanueva del Pardillo, Torrelodones, Moralzarzal, Mejorada del Campo, Aranjuez, Corpa, Getafe, Velilla de San Antonio, Sevilla la Nueva, San Martín de la Vega, Villalbilla, Collado Villalba, Alcobendas, El Molar (Madrid), Moraleja de Enmedio, Algete, Campo Real, Torrejón de la Calzada, Colmenar Viejo, Valdemorillo, Fuente El Saz de Jarama, Tres Cantos, Arroyomolinos (Madrid), Griñón, Paracuellos de Jarama, Guadarrama, Titulcia, Galapagar, Collado Mediano, Los Molinos, San Lorenzo de El Escorial, Loeches, San Martín de Valdeiglesias, Navas del Rey, Bustarviejo, Manzanares El Real, Carabaña, Casarrubuelos, Cercedilla, Fresnedillas de la Oliva, Valdemaqueda, Robledo de Chavela, Miraflores de la Sierra, Humanes de Madrid, Valdetorres de Jarama, San Agustín del Guadalix, Ciempozuelos, Camarma de Esteruelas, Torres de la Alameda, Talamanca de Jarama, El Atazar, Hoyo de Manzanares, El Boalo - Cerceda – Mataelpino, El Álamo, Valdilecha, Valdeolmos-Alalpardo, Guadalix de la Sierra, Belmonte de Tajo, El Vellón, Brunete, Redueña, Morata de Tajuña, Tielmes, Gargantilla del Lozoya, Meco, Venturada, Quijorna, Cenicientos, Torrejón de Velasco, Navacerrada, Santa María de la Alameda, Orusco de Tajuña, Daganzo de Arriba, Villamanta, Anchuelo, Valdaracete, Ajalvir, Los Santos de la Humosa, Villamanrique de Tajo, Colmenar de Oreja, Villa del Prado, Fuentidueña de Tajo, Colmenar del Arroyo, Valdelaguna, Cubas de la Sagra, Valdeavero, Aldea del Fresno, Ribatejada, Torrelaguna, Batres, Pezuela de las Torres, Colmenarejo, Serranillos del Valle, Cobeña, Soto del Real, El Berrueco, Villanueva de Perales, Fresno de Torote - Serracines, Pozuelo del Rey, Pelayos de la Presa, La Cabrera, Nuevo Baztán, Perales de Tajuña, Villaconejos, Villarejo de Salvanés, Cadalso de los Vidrios, Santorcaz, Madarcos, Garganta de los Montes, Puentes Viejas, Torremocha de Jarama, Valdemanco, Braojos, Lozoyuela-navas-sieteiglesias, Piñuécar-gandullas, Valdepiélagos, Valverde de Alcalá, Villar del Olmo, Villamantilla, Horcajo de la Sierra, Gascones, Zarzalejo, Villavieja del Lozoya, Brea de Tajo, Estremera, Chapinería, Navarredonda, Patones, Ambite, Navalafuente, Lozoya, Canencia, Cabanillas de la Sierra, Buitrago del Lozoya, Fresno de Torote, Robregordo, Pinilla del Valle, Rascafría, La Hiruela, Montejo de la Sierra\n"
     ]
    }
   ],
   "source": [
    "# TODO\n",
    "import pandas as pd\n",
    "\n",
    "# this CSV file contains semicolons instead of comas as separator\n",
    "ds = pd.read_csv('assets/real_estate.csv', sep=';')\n",
    "populations = ds['level5'].unique().size\n",
    "print(\", \".join(ds['level5'].unique()))"
   ]
  },
  {
   "attachments": {},
   "cell_type": "markdown",
   "id": "crazy-blame",
   "metadata": {},
   "source": [
    "#### Exercise 05. Does the dataset contain NAs? (★☆☆)\n",
    "\n",
    "Print a boolean value (`true` or `fase`) followed by the rows/cols that contains NAs."
   ]
  },
  {
   "cell_type": "code",
   "execution_count": 59,
   "id": "transparent-poetry",
   "metadata": {},
   "outputs": [
    {
     "name": "stdout",
     "output_type": "stream",
     "text": [
      "False: realEstate_name, phone_realEstate, rooms, bathrooms, surface, description, level4, level6, level7, level8, zipCode, customZone\n",
      "True: Unnamed: 0, id_realEstates, isNew, url_inmueble, price, date, address, country, level1, level2, level3, level5, upperLevel, countryId, level1Id, level2Id, level3Id, level4Id, level5Id, level6Id, level7Id, level8Id, accuracy, latitude, longitude\n"
     ]
    }
   ],
   "source": [
    "# TODO\n",
    "import pandas as pd\n",
    "\n",
    "# this CSV file contains semicolons instead of comas as separator\n",
    "ds = pd.read_csv('assets/real_estate.csv', sep=';')\n",
    "#SI tienen NAs\n",
    "NAs_true = ds.columns[ds.isnull().any(axis=0)]\n",
    "\n",
    "#NO tienen NAs\n",
    "NAs_false = ds.columns[~ds.isnull().any(axis=0)]\n",
    "\n",
    "print(f\"False: {', '.join(NAs_true)}\")\n",
    "print(f\"True: {', '.join(NAs_false)}\")"
   ]
  },
  {
   "attachments": {},
   "cell_type": "markdown",
   "id": "italic-hydrogen",
   "metadata": {},
   "source": [
    "#### Exercise 06. Delete the NAs of the dataset, if applicable (★★☆)\n",
    "\n",
    "Print a comparison between the dimensions of the original DataFrame versus the DataFrame after the deletions"
   ]
  },
  {
   "cell_type": "code",
   "execution_count": 89,
   "id": "administrative-roads",
   "metadata": {},
   "outputs": [
    {
     "name": "stdout",
     "output_type": "stream",
     "text": [
      "Tamaño original: (15335, 37)\n",
      "Tamaño nuevo: (0, 37)\n"
     ]
    }
   ],
   "source": [
    "# TODO\n",
    "import pandas as pd\n",
    "\n",
    "# this CSV file contains semicolons instead of comas as separator\n",
    "ds = pd.read_csv('assets/real_estate.csv', sep=';')\n",
    "nuevo = ds.dropna()\n",
    "print(\"Tamaño original: \" + str(ds.shape) + \"\\nTamaño nuevo: \" + str(nuevo.shape))\n"
   ]
  },
  {
   "attachments": {},
   "cell_type": "markdown",
   "id": "middle-china",
   "metadata": {},
   "source": [
    "#### Exercise 07. Which is the mean of prices in the population (level5 column) of \"Arroyomolinos (Madrid)\"? (★★☆)\n",
    "\n",
    "Print the obtained value"
   ]
  },
  {
   "cell_type": "code",
   "execution_count": 5,
   "id": "nuclear-belief",
   "metadata": {},
   "outputs": [
    {
     "name": "stdout",
     "output_type": "stream",
     "text": [
      "Mean price in Arroyomolinos (Madrid): €294541.59854014596\n"
     ]
    }
   ],
   "source": [
    "# TODO\n",
    "import pandas as pd\n",
    "\n",
    "# this CSV file contains semicolons instead of comas as separator\n",
    "ds = pd.read_csv('assets/real_estate.csv', sep=';')\n",
    "filtro = ds[ds['level5'] == 'Arroyomolinos (Madrid)']\n",
    "\n",
    "mean_price = filtro['price'].mean()\n",
    "print(f\"Mean price in Arroyomolinos (Madrid): €\" +  str(mean_price))\n"
   ]
  },
  {
   "attachments": {},
   "cell_type": "markdown",
   "id": "concerned-radical",
   "metadata": {},
   "source": [
    "#### Exercise 08. Plot the histogram of prices for the population (level5 column) of \"Arroyomolinos (Madrid)\" and explain what you observe (★★☆)\n",
    "\n",
    "Print the histogram of the prices and write in the Markdown cell a brief analysis about the plot."
   ]
  },
  {
   "cell_type": "code",
   "execution_count": 7,
   "id": "sudden-message",
   "metadata": {},
   "outputs": [
    {
     "data": {
      "image/png": "[encoded data removed]",
      "text/plain": [
       "<Figure size 640x480 with 1 Axes>"
      ]
     },
     "metadata": {},
     "output_type": "display_data"
    }
   ],
   "source": [
    "# TODO: Code\n",
    "import pandas as pd\n",
    "import matplotlib.pyplot as plt\n",
    "\n",
    "# this CSV file contains semicolons instead of comas as separator\n",
    "ds = pd.read_csv('assets/real_estate.csv', sep=';')\n",
    "filtro = ds[ds['level5'] == 'Arroyomolinos (Madrid)']\n",
    "precios = filtro['price']\n",
    "\n",
    "plt.hist(precios, bins = 40)\n",
    "plt.xlabel('Precio €')\n",
    "plt.title('Histogram of prices (Arroyomolinos (Madrid)')\n",
    "plt.show()\n"
   ]
  },
  {
   "attachments": {},
   "cell_type": "markdown",
   "id": "impressed-combination",
   "metadata": {},
   "source": [
    "La mayor cantidad de propiedades se encuentra en el rango de precios de 150000 a 400000.\n",
    "También se puede apreciar que hay 2 propiedades con precio 0 y muy pocas propiedades que pasen los 400000.\n",
    "El promedio de precios para la región es aproximadamente 300000."
   ]
  },
  {
   "attachments": {},
   "cell_type": "markdown",
   "id": "actual-edinburgh",
   "metadata": {},
   "source": [
    "#### Exercise 09. Is the average of \"Valdemorillo\" and \"Galapagar\" prices the same? (★★☆)\n",
    "\n",
    "Print the both average prices and then write a conclusion about them"
   ]
  },
  {
   "cell_type": "code",
   "execution_count": 17,
   "id": "numeric-commerce",
   "metadata": {},
   "outputs": [
    {
     "name": "stdout",
     "output_type": "stream",
     "text": [
      "Valdemorillo average price: 363860.2931034483\n",
      "Galapagaraverage price: 360063.20238095237\n"
     ]
    }
   ],
   "source": [
    "# TODO\n",
    "import pandas as pd\n",
    "\n",
    "# this CSV file contains semicolons instead of comas as separator\n",
    "ds = pd.read_csv('assets/real_estate.csv', sep=';')\n",
    "\n",
    "#\"Valdemorillo\"\n",
    "filtro_Valdemorillo = ds[ds['level5'] == 'Valdemorillo']\n",
    "mean_price_Valdemorillo = filtro_Valdemorillo['price'].mean()\n",
    "\n",
    "#\"Galapagar\"\n",
    "filtro_Galapagar = ds[ds['level5'] == 'Galapagar']\n",
    "mean_price_Galapagar = filtro_Galapagar['price'].mean()\n",
    "\n",
    "print(\"Valdemorillo average price: \" + str(mean_price_Valdemorillo))\n",
    "print(\"Galapagaraverage price: \" + str(mean_price_Galapagar))"
   ]
  },
  {
   "cell_type": "markdown",
   "id": "ee267006",
   "metadata": {},
   "source": [
    "El promedio de precios de Valdemorillo es mayor al de Galapagaraverage por €3800."
   ]
  },
  {
   "attachments": {},
   "cell_type": "markdown",
   "id": "lonely-article",
   "metadata": {},
   "source": [
    "#### Exercise 10. Is the average of \"Valdemorillo\" and \"Galapagar\" price per square meter (price/m2) the same? (★★☆)\n",
    "\n",
    "Print the both average prices and then write a conclusion about\n",
    "\n",
    "Hint: Create a new column called `pps` (price per square) and then analyse the values"
   ]
  },
  {
   "cell_type": "code",
   "execution_count": 28,
   "id": "hourly-globe",
   "metadata": {},
   "outputs": [
    {
     "name": "stdout",
     "output_type": "stream",
     "text": [
      "Valdemorillo average price: 1317.9502109024986\n",
      "Galapagaraverage price: 1606.3240303094024\n"
     ]
    },
    {
     "name": "stderr",
     "output_type": "stream",
     "text": [
      "/tmp/ipykernel_70433/910894926.py:10: SettingWithCopyWarning: \n",
      "A value is trying to be set on a copy of a slice from a DataFrame.\n",
      "Try using .loc[row_indexer,col_indexer] = value instead\n",
      "\n",
      "See the caveats in the documentation: https://pandas.pydata.org/pandas-docs/stable/user_guide/indexing.html#returning-a-view-versus-a-copy\n",
      "  filtro_Valdemorillo['pps'] = filtro_Valdemorillo['price'] / filtro_Valdemorillo['surface']\n",
      "/tmp/ipykernel_70433/910894926.py:15: SettingWithCopyWarning: \n",
      "A value is trying to be set on a copy of a slice from a DataFrame.\n",
      "Try using .loc[row_indexer,col_indexer] = value instead\n",
      "\n",
      "See the caveats in the documentation: https://pandas.pydata.org/pandas-docs/stable/user_guide/indexing.html#returning-a-view-versus-a-copy\n",
      "  filtro_Galapagar['pps'] = filtro_Galapagar['price'] / filtro_Galapagar['surface']\n"
     ]
    }
   ],
   "source": [
    "# TODO\n",
    "import pandas as pd\n",
    "\n",
    "# this CSV file contains semicolons instead of comas as separator\n",
    "ds = pd.read_csv('assets/real_estate.csv', sep=';')\n",
    "\n",
    "#\"Valdemorillo\"\n",
    "filtro_Valdemorillo = ds[ds['level5'] == 'Valdemorillo']\n",
    "\n",
    "filtro_Valdemorillo['pps'] = filtro_Valdemorillo['price'] / filtro_Valdemorillo['surface']\n",
    "\n",
    "#\"Galapagar\"\n",
    "filtro_Galapagar = ds[ds['level5'] == 'Galapagar']\n",
    "\n",
    "filtro_Galapagar.loc[:,'pps'] = filtro_Galapagar['price'] / filtro_Galapagar['surface']\n",
    "\n",
    "\n",
    "\n",
    "print(\"Valdemorillo average price: \" + str(filtro_Valdemorillo['pps'].mean()))\n",
    "print(\"Galapagaraverage price: \" + str(filtro_Galapagar['pps'].mean()))"
   ]
  },
  {
   "attachments": {},
   "cell_type": "markdown",
   "id": "pleasant-invite",
   "metadata": {},
   "source": [
    "#### Exercise 11. Analyse the relation between the surface and the price of the houses (★★☆)\n",
    "\n",
    "Hint: You can make a `scatter plot` and then write a conclusion about it"
   ]
  },
  {
   "cell_type": "code",
   "execution_count": 65,
   "id": "common-drilling",
   "metadata": {},
   "outputs": [
    {
     "name": "stdout",
     "output_type": "stream",
     "text": [
      "477303.56641669385\n",
      "196.91643592474264\n"
     ]
    },
    {
     "data": {
      "image/png": "[encoded data removed]",
      "text/plain": [
       "<Figure size 640x480 with 1 Axes>"
      ]
     },
     "metadata": {},
     "output_type": "display_data"
    }
   ],
   "source": [
    "# TODO: Code\n",
    "import pandas as pd\n",
    "import matplotlib.pyplot as plt\n",
    "\n",
    "\n",
    "# this CSV file contains semicolons instead of comas as separator\n",
    "ds = pd.read_csv('assets/real_estate.csv', sep=';')\n",
    "prices = ds['price']\n",
    "surfaces = ds['surface']\n",
    "print(prices.mean())\n",
    "print(ds['surface'].mean())\n",
    "\n",
    "\n",
    "plt.scatter(prices, surfaces)\n",
    "\n",
    "plt.title('Surface vs Price')\n",
    "plt.xlabel('Surface (m2)')\n",
    "plt.ylabel('Price (EUR)')\n",
    "plt.show()"
   ]
  },
  {
   "attachments": {},
   "cell_type": "markdown",
   "id": "ahead-liquid",
   "metadata": {},
   "source": [
    "Tengo un error en algún lado por lo que no puedo mostrar los valores reales\n"
   ]
  },
  {
   "attachments": {},
   "cell_type": "markdown",
   "id": "coordinate-sunrise",
   "metadata": {},
   "source": [
    "#### Exercise 12. How many real estate agencies the dataset contains? (★★☆)\n",
    "\n",
    "Print the obtained value"
   ]
  },
  {
   "cell_type": "code",
   "execution_count": 66,
   "id": "valid-honolulu",
   "metadata": {},
   "outputs": [
    {
     "name": "stdout",
     "output_type": "stream",
     "text": [
      "1821\n"
     ]
    }
   ],
   "source": [
    "# TODO\n",
    "import pandas as pd\n",
    "\n",
    "\n",
    "# this CSV file contains semicolons instead of comas as separator\n",
    "ds = pd.read_csv('assets/real_estate.csv', sep=';')\n",
    "n_distinct_agencies = ds['realEstate_name'].nunique()\n",
    "print(n_distinct_agencies)"
   ]
  },
  {
   "attachments": {},
   "cell_type": "markdown",
   "id": "binding-ebony",
   "metadata": {},
   "source": [
    "#### Exercise 13. Which is the population (level5 column) that contains the most houses? (★★☆)\n",
    "\n",
    "Print both the population and the number of houses"
   ]
  },
  {
   "cell_type": "code",
   "execution_count": 74,
   "id": "static-perry",
   "metadata": {},
   "outputs": [
    {
     "name": "stdout",
     "output_type": "stream",
     "text": [
      "The population with the most houses is  Madrid Capital with 6643 houses.\n"
     ]
    }
   ],
   "source": [
    "# TODO\n",
    "import pandas as pd\n",
    "\n",
    "\n",
    "# this CSV file contains semicolons instead of comas as separator\n",
    "ds = pd.read_csv('assets/real_estate.csv', sep=';')\n",
    "houses_per_lvl5 = ds.groupby('level5').size()\n",
    "print(f\"The population with the most houses is {houses_per_lvl5.idxmax()} with {houses_per_lvl5[houses_per_lvl5.idxmax()]} houses.\")\n"
   ]
  },
  {
   "attachments": {},
   "cell_type": "markdown",
   "id": "entire-classification",
   "metadata": {},
   "source": [
    "#### Exercise 14. Now let's work with the \"south belt\" of madrid. Make a subset of the original DataFrame that contains the following populations (level5 column): \"Fuenlabrada\",\"Leganés\",\"Getafe\",\"Alcorcón\" (★★☆)\n",
    "\n",
    "Hint: Filter the original DataFrame using the column `level5` and the function `isin`"
   ]
  },
  {
   "cell_type": "code",
   "execution_count": 76,
   "id": "binary-input",
   "metadata": {},
   "outputs": [
    {
     "data": {
      "text/html": [
       "<div>\n",
       "<style scoped>\n",
       "    .dataframe tbody tr th:only-of-type {\n",
       "        vertical-align: middle;\n",
       "    }\n",
       "\n",
       "    .dataframe tbody tr th {\n",
       "        vertical-align: top;\n",
       "    }\n",
       "\n",
       "    .dataframe thead th {\n",
       "        text-align: right;\n",
       "    }\n",
       "</style>\n",
       "<table border=\"1\" class=\"dataframe\">\n",
       "  <thead>\n",
       "    <tr style=\"text-align: right;\">\n",
       "      <th></th>\n",
       "      <th>Unnamed: 0</th>\n",
       "      <th>id_realEstates</th>\n",
       "      <th>isNew</th>\n",
       "      <th>realEstate_name</th>\n",
       "      <th>phone_realEstate</th>\n",
       "      <th>url_inmueble</th>\n",
       "      <th>rooms</th>\n",
       "      <th>bathrooms</th>\n",
       "      <th>surface</th>\n",
       "      <th>price</th>\n",
       "      <th>...</th>\n",
       "      <th>level4Id</th>\n",
       "      <th>level5Id</th>\n",
       "      <th>level6Id</th>\n",
       "      <th>level7Id</th>\n",
       "      <th>level8Id</th>\n",
       "      <th>accuracy</th>\n",
       "      <th>latitude</th>\n",
       "      <th>longitude</th>\n",
       "      <th>zipCode</th>\n",
       "      <th>customZone</th>\n",
       "    </tr>\n",
       "  </thead>\n",
       "  <tbody>\n",
       "    <tr>\n",
       "      <th>1</th>\n",
       "      <td>2</td>\n",
       "      <td>153867863</td>\n",
       "      <td>False</td>\n",
       "      <td>tecnocasa fuenlabrada ferrocarril</td>\n",
       "      <td>916358736.0</td>\n",
       "      <td>https://www.fotocasa.es/es/comprar/vivienda/ma...</td>\n",
       "      <td>3.0</td>\n",
       "      <td>1.0</td>\n",
       "      <td>NaN</td>\n",
       "      <td>89000</td>\n",
       "      <td>...</td>\n",
       "      <td>0</td>\n",
       "      <td>0</td>\n",
       "      <td>0</td>\n",
       "      <td>0</td>\n",
       "      <td>0</td>\n",
       "      <td>1</td>\n",
       "      <td>40,28674</td>\n",
       "      <td>-3,79351</td>\n",
       "      <td>NaN</td>\n",
       "      <td>NaN</td>\n",
       "    </tr>\n",
       "    <tr>\n",
       "      <th>3</th>\n",
       "      <td>4</td>\n",
       "      <td>152776331</td>\n",
       "      <td>False</td>\n",
       "      <td>tecnocasa fuenlabrada ferrocarril</td>\n",
       "      <td>916358736.0</td>\n",
       "      <td>https://www.fotocasa.es/es/comprar/vivienda/ma...</td>\n",
       "      <td>3.0</td>\n",
       "      <td>1.0</td>\n",
       "      <td>86.0</td>\n",
       "      <td>89000</td>\n",
       "      <td>...</td>\n",
       "      <td>0</td>\n",
       "      <td>0</td>\n",
       "      <td>0</td>\n",
       "      <td>0</td>\n",
       "      <td>0</td>\n",
       "      <td>0</td>\n",
       "      <td>40,2853785786438</td>\n",
       "      <td>-3,79508142135624</td>\n",
       "      <td>NaN</td>\n",
       "      <td>NaN</td>\n",
       "    </tr>\n",
       "    <tr>\n",
       "      <th>85</th>\n",
       "      <td>86</td>\n",
       "      <td>153152077</td>\n",
       "      <td>False</td>\n",
       "      <td>sinergical inmobiliaria</td>\n",
       "      <td>NaN</td>\n",
       "      <td>https://www.fotocasa.es/es/comprar/vivienda/le...</td>\n",
       "      <td>1.0</td>\n",
       "      <td>1.0</td>\n",
       "      <td>50.0</td>\n",
       "      <td>107000</td>\n",
       "      <td>...</td>\n",
       "      <td>0</td>\n",
       "      <td>0</td>\n",
       "      <td>0</td>\n",
       "      <td>0</td>\n",
       "      <td>0</td>\n",
       "      <td>1</td>\n",
       "      <td>40,35059</td>\n",
       "      <td>-3,82693</td>\n",
       "      <td>NaN</td>\n",
       "      <td>NaN</td>\n",
       "    </tr>\n",
       "    <tr>\n",
       "      <th>94</th>\n",
       "      <td>95</td>\n",
       "      <td>153995577</td>\n",
       "      <td>False</td>\n",
       "      <td>viviendas365com</td>\n",
       "      <td>911226014.0</td>\n",
       "      <td>https://www.fotocasa.es/es/comprar/vivienda/le...</td>\n",
       "      <td>3.0</td>\n",
       "      <td>2.0</td>\n",
       "      <td>120.0</td>\n",
       "      <td>320000</td>\n",
       "      <td>...</td>\n",
       "      <td>0</td>\n",
       "      <td>0</td>\n",
       "      <td>0</td>\n",
       "      <td>0</td>\n",
       "      <td>0</td>\n",
       "      <td>0</td>\n",
       "      <td>40,31933</td>\n",
       "      <td>-3,77574</td>\n",
       "      <td>NaN</td>\n",
       "      <td>NaN</td>\n",
       "    </tr>\n",
       "    <tr>\n",
       "      <th>109</th>\n",
       "      <td>110</td>\n",
       "      <td>153586414</td>\n",
       "      <td>False</td>\n",
       "      <td>area uno asesores inmobiliarios</td>\n",
       "      <td>912664081.0</td>\n",
       "      <td>https://www.fotocasa.es/es/comprar/vivienda/ma...</td>\n",
       "      <td>3.0</td>\n",
       "      <td>3.0</td>\n",
       "      <td>142.0</td>\n",
       "      <td>425000</td>\n",
       "      <td>...</td>\n",
       "      <td>0</td>\n",
       "      <td>0</td>\n",
       "      <td>0</td>\n",
       "      <td>0</td>\n",
       "      <td>0</td>\n",
       "      <td>0</td>\n",
       "      <td>40,3313411</td>\n",
       "      <td>-3,8313868</td>\n",
       "      <td>NaN</td>\n",
       "      <td>NaN</td>\n",
       "    </tr>\n",
       "    <tr>\n",
       "      <th>...</th>\n",
       "      <td>...</td>\n",
       "      <td>...</td>\n",
       "      <td>...</td>\n",
       "      <td>...</td>\n",
       "      <td>...</td>\n",
       "      <td>...</td>\n",
       "      <td>...</td>\n",
       "      <td>...</td>\n",
       "      <td>...</td>\n",
       "      <td>...</td>\n",
       "      <td>...</td>\n",
       "      <td>...</td>\n",
       "      <td>...</td>\n",
       "      <td>...</td>\n",
       "      <td>...</td>\n",
       "      <td>...</td>\n",
       "      <td>...</td>\n",
       "      <td>...</td>\n",
       "      <td>...</td>\n",
       "      <td>...</td>\n",
       "      <td>...</td>\n",
       "    </tr>\n",
       "    <tr>\n",
       "      <th>15275</th>\n",
       "      <td>15276</td>\n",
       "      <td>153903887</td>\n",
       "      <td>False</td>\n",
       "      <td>aliseda servicios de gestion inmobiliaria</td>\n",
       "      <td>911368198.0</td>\n",
       "      <td>https://www.fotocasa.es/es/comprar/vivienda/al...</td>\n",
       "      <td>3.0</td>\n",
       "      <td>1.0</td>\n",
       "      <td>78.0</td>\n",
       "      <td>138000</td>\n",
       "      <td>...</td>\n",
       "      <td>0</td>\n",
       "      <td>0</td>\n",
       "      <td>0</td>\n",
       "      <td>0</td>\n",
       "      <td>0</td>\n",
       "      <td>1</td>\n",
       "      <td>40,31381</td>\n",
       "      <td>-3,83733</td>\n",
       "      <td>NaN</td>\n",
       "      <td>NaN</td>\n",
       "    </tr>\n",
       "    <tr>\n",
       "      <th>15291</th>\n",
       "      <td>15292</td>\n",
       "      <td>151697757</td>\n",
       "      <td>False</td>\n",
       "      <td>unipiso</td>\n",
       "      <td>912788631.0</td>\n",
       "      <td>https://www.fotocasa.es/es/comprar/vivienda/al...</td>\n",
       "      <td>3.0</td>\n",
       "      <td>2.0</td>\n",
       "      <td>110.0</td>\n",
       "      <td>279000</td>\n",
       "      <td>...</td>\n",
       "      <td>0</td>\n",
       "      <td>0</td>\n",
       "      <td>0</td>\n",
       "      <td>0</td>\n",
       "      <td>0</td>\n",
       "      <td>0</td>\n",
       "      <td>40,3259051</td>\n",
       "      <td>-3,76318</td>\n",
       "      <td>NaN</td>\n",
       "      <td>NaN</td>\n",
       "    </tr>\n",
       "    <tr>\n",
       "      <th>15305</th>\n",
       "      <td>15306</td>\n",
       "      <td>153902389</td>\n",
       "      <td>False</td>\n",
       "      <td>jadein ferrero</td>\n",
       "      <td>914871639.0</td>\n",
       "      <td>https://www.fotocasa.es/es/comprar/vivienda/ma...</td>\n",
       "      <td>3.0</td>\n",
       "      <td>2.0</td>\n",
       "      <td>85.0</td>\n",
       "      <td>170000</td>\n",
       "      <td>...</td>\n",
       "      <td>0</td>\n",
       "      <td>0</td>\n",
       "      <td>0</td>\n",
       "      <td>0</td>\n",
       "      <td>0</td>\n",
       "      <td>0</td>\n",
       "      <td>40,2882193</td>\n",
       "      <td>-3,8098617</td>\n",
       "      <td>NaN</td>\n",
       "      <td>NaN</td>\n",
       "    </tr>\n",
       "    <tr>\n",
       "      <th>15322</th>\n",
       "      <td>15323</td>\n",
       "      <td>153871864</td>\n",
       "      <td>False</td>\n",
       "      <td>gestion comercial</td>\n",
       "      <td>911220662.0</td>\n",
       "      <td>https://www.fotocasa.es/es/comprar/vivienda/ma...</td>\n",
       "      <td>3.0</td>\n",
       "      <td>1.0</td>\n",
       "      <td>91.0</td>\n",
       "      <td>112000</td>\n",
       "      <td>...</td>\n",
       "      <td>0</td>\n",
       "      <td>0</td>\n",
       "      <td>0</td>\n",
       "      <td>0</td>\n",
       "      <td>0</td>\n",
       "      <td>0</td>\n",
       "      <td>40,28282</td>\n",
       "      <td>-3,78892</td>\n",
       "      <td>NaN</td>\n",
       "      <td>NaN</td>\n",
       "    </tr>\n",
       "    <tr>\n",
       "      <th>15325</th>\n",
       "      <td>15326</td>\n",
       "      <td>153901467</td>\n",
       "      <td>False</td>\n",
       "      <td>montehogar 68</td>\n",
       "      <td>911790675.0</td>\n",
       "      <td>https://www.fotocasa.es/es/comprar/vivienda/ma...</td>\n",
       "      <td>2.0</td>\n",
       "      <td>2.0</td>\n",
       "      <td>99.0</td>\n",
       "      <td>215000</td>\n",
       "      <td>...</td>\n",
       "      <td>0</td>\n",
       "      <td>0</td>\n",
       "      <td>0</td>\n",
       "      <td>0</td>\n",
       "      <td>0</td>\n",
       "      <td>1</td>\n",
       "      <td>40,28062</td>\n",
       "      <td>-3,79869</td>\n",
       "      <td>NaN</td>\n",
       "      <td>NaN</td>\n",
       "    </tr>\n",
       "  </tbody>\n",
       "</table>\n",
       "<p>907 rows × 37 columns</p>\n",
       "</div>"
      ],
      "text/plain": [
       "       Unnamed: 0  id_realEstates  isNew  \\\n",
       "1               2       153867863  False   \n",
       "3               4       152776331  False   \n",
       "85             86       153152077  False   \n",
       "94             95       153995577  False   \n",
       "109           110       153586414  False   \n",
       "...           ...             ...    ...   \n",
       "15275       15276       153903887  False   \n",
       "15291       15292       151697757  False   \n",
       "15305       15306       153902389  False   \n",
       "15322       15323       153871864  False   \n",
       "15325       15326       153901467  False   \n",
       "\n",
       "                                 realEstate_name  phone_realEstate  \\\n",
       "1              tecnocasa fuenlabrada ferrocarril       916358736.0   \n",
       "3              tecnocasa fuenlabrada ferrocarril       916358736.0   \n",
       "85                       sinergical inmobiliaria               NaN   \n",
       "94                               viviendas365com       911226014.0   \n",
       "109              area uno asesores inmobiliarios       912664081.0   \n",
       "...                                          ...               ...   \n",
       "15275  aliseda servicios de gestion inmobiliaria       911368198.0   \n",
       "15291                                    unipiso       912788631.0   \n",
       "15305                             jadein ferrero       914871639.0   \n",
       "15322                          gestion comercial       911220662.0   \n",
       "15325                              montehogar 68       911790675.0   \n",
       "\n",
       "                                            url_inmueble  rooms  bathrooms  \\\n",
       "1      https://www.fotocasa.es/es/comprar/vivienda/ma...    3.0        1.0   \n",
       "3      https://www.fotocasa.es/es/comprar/vivienda/ma...    3.0        1.0   \n",
       "85     https://www.fotocasa.es/es/comprar/vivienda/le...    1.0        1.0   \n",
       "94     https://www.fotocasa.es/es/comprar/vivienda/le...    3.0        2.0   \n",
       "109    https://www.fotocasa.es/es/comprar/vivienda/ma...    3.0        3.0   \n",
       "...                                                  ...    ...        ...   \n",
       "15275  https://www.fotocasa.es/es/comprar/vivienda/al...    3.0        1.0   \n",
       "15291  https://www.fotocasa.es/es/comprar/vivienda/al...    3.0        2.0   \n",
       "15305  https://www.fotocasa.es/es/comprar/vivienda/ma...    3.0        2.0   \n",
       "15322  https://www.fotocasa.es/es/comprar/vivienda/ma...    3.0        1.0   \n",
       "15325  https://www.fotocasa.es/es/comprar/vivienda/ma...    2.0        2.0   \n",
       "\n",
       "       surface   price  ... level4Id level5Id level6Id level7Id level8Id  \\\n",
       "1          NaN   89000  ...        0        0        0        0        0   \n",
       "3         86.0   89000  ...        0        0        0        0        0   \n",
       "85        50.0  107000  ...        0        0        0        0        0   \n",
       "94       120.0  320000  ...        0        0        0        0        0   \n",
       "109      142.0  425000  ...        0        0        0        0        0   \n",
       "...        ...     ...  ...      ...      ...      ...      ...      ...   \n",
       "15275     78.0  138000  ...        0        0        0        0        0   \n",
       "15291    110.0  279000  ...        0        0        0        0        0   \n",
       "15305     85.0  170000  ...        0        0        0        0        0   \n",
       "15322     91.0  112000  ...        0        0        0        0        0   \n",
       "15325     99.0  215000  ...        0        0        0        0        0   \n",
       "\n",
       "      accuracy          latitude          longitude zipCode customZone  \n",
       "1            1          40,28674           -3,79351     NaN        NaN  \n",
       "3            0  40,2853785786438  -3,79508142135624     NaN        NaN  \n",
       "85           1          40,35059           -3,82693     NaN        NaN  \n",
       "94           0          40,31933           -3,77574     NaN        NaN  \n",
       "109          0        40,3313411         -3,8313868     NaN        NaN  \n",
       "...        ...               ...                ...     ...        ...  \n",
       "15275        1          40,31381           -3,83733     NaN        NaN  \n",
       "15291        0        40,3259051           -3,76318     NaN        NaN  \n",
       "15305        0        40,2882193         -3,8098617     NaN        NaN  \n",
       "15322        0          40,28282           -3,78892     NaN        NaN  \n",
       "15325        1          40,28062           -3,79869     NaN        NaN  \n",
       "\n",
       "[907 rows x 37 columns]"
      ]
     },
     "execution_count": 76,
     "metadata": {},
     "output_type": "execute_result"
    }
   ],
   "source": [
    "# TODO\n",
    "import pandas as pd\n",
    "\n",
    "\n",
    "# this CSV file contains semicolons instead of comas as separator\n",
    "ds = pd.read_csv('assets/real_estate.csv', sep=';')\n",
    "\n",
    "south_belt = ds[ds['level5'].isin(['Fuenlabrada', 'Leganés', 'Getafe', 'Alcorcón'])]\n",
    "\n",
    "south_belt"
   ]
  },
  {
   "attachments": {},
   "cell_type": "markdown",
   "id": "severe-fisher",
   "metadata": {},
   "source": [
    "#### Exercise 15. Make a bar plot of the median of the prices and explain what you observe (you must use the subset obtained in the question 14) (★★★)\n",
    "\n",
    "Print the bar of the median of the prices and write in the Markdown cell a brief analysis about the plot"
   ]
  },
  {
   "cell_type": "code",
   "execution_count": 79,
   "id": "lyric-bunch",
   "metadata": {},
   "outputs": [
    {
     "data": {
      "image/png": "[encoded data removed]",
      "text/plain": [
       "<Figure size 640x480 with 1 Axes>"
      ]
     },
     "metadata": {},
     "output_type": "display_data"
    }
   ],
   "source": [
    "# TODO\n",
    "import pandas as pd\n",
    "\n",
    "\n",
    "# this CSV file contains semicolons instead of comas as separator\n",
    "ds = pd.read_csv('assets/real_estate.csv', sep=';')\n",
    "\n",
    "south_belt = ds[ds['level5'].isin(['Fuenlabrada', 'Leganés', 'Getafe', 'Alcorcón'])]\n",
    "\n",
    "median_prices = south_belt.groupby('level5')['price'].median()\n",
    "\n",
    "plt.bar(median_prices.index, median_prices.values)\n",
    "\n",
    "plt.title('Median Price per Location')\n",
    "plt.xlabel('Location')\n",
    "plt.ylabel('Median Price (€)')\n",
    "plt.show()\n"
   ]
  },
  {
   "attachments": {},
   "cell_type": "markdown",
   "id": "sublime-newspaper",
   "metadata": {},
   "source": [
    "Analizando el gráfico vemoos que los precios para Alcorcón, Fuenlabrada y Leganés varían muy poco entre ellos, siendo Alcorcón el de mayor mediana entre esos 3.\n",
    "Vemos una gran diferencia de mediana entre Getafe y las demás ubicaciones."
   ]
  },
  {
   "attachments": {},
   "cell_type": "markdown",
   "id": "speaking-diamond",
   "metadata": {},
   "source": [
    "#### Exercise 16. Calculate the sample mean and variance of the variables: price, rooms, surface area and bathrooms (you must use the subset obtained in the question 14) (★★★)\n",
    "\n",
    "Print both values for each variable"
   ]
  },
  {
   "cell_type": "code",
   "execution_count": 91,
   "id": "random-feeling",
   "metadata": {},
   "outputs": [
    {
     "name": "stdout",
     "output_type": "stream",
     "text": [
      "Sample mean and variance of price:\n",
      "\tMean: 223094.48070562293\n",
      "\tVariance: 14921367508.04902\n",
      "Sample mean and variance of rooms:\n",
      "\tMean: 3.0177383592017737\n",
      "\tVariance: 0.7188858892927542\n",
      "Sample mean and variance of surface:\n",
      "\tMean: 111.75222363405337\n",
      "\tVariance: 4263.051760316337\n",
      "Sample mean and variance of bathrooms:\n",
      "\tMean: 1.633221850613155\n",
      "\tVariance: 0.5717968625577321\n"
     ]
    }
   ],
   "source": [
    "import pandas as pd\n",
    "\n",
    "\n",
    "# this CSV file contains semicolons instead of comas as separator\n",
    "ds = pd.read_csv('assets/real_estate.csv', sep=';')\n",
    "south_belt = ds[ds['level5'].isin(['Fuenlabrada', 'Leganés', 'Getafe', 'Alcorcón'])]\n",
    "\n",
    "## MEANS AND VARIANCE\n",
    "price_mean = south_belt['price'].mean()\n",
    "price_variance = south_belt['price'].var()\n",
    "\n",
    "rooms_mean = south_belt['rooms'].mean()\n",
    "rooms_variance = south_belt['rooms'].var()\n",
    "\n",
    "surface_mean = south_belt['surface'].mean()\n",
    "surface_variance = south_belt['surface'].var()\n",
    "\n",
    "bathrooms_mean = south_belt['bathrooms'].mean()\n",
    "bathrooms_variance = south_belt['bathrooms'].var()\n",
    "\n",
    "\n",
    "print(f\"Sample mean and variance of price:\")\n",
    "print(f\"\\tMean: {price_mean}\")\n",
    "print(f\"\\tVariance: {price_variance}\")\n",
    "\n",
    "print(f\"Sample mean and variance of rooms:\")\n",
    "print(f\"\\tMean: {rooms_mean}\")\n",
    "print(f\"\\tVariance: {rooms_variance}\")\n",
    "\n",
    "print(f\"Sample mean and variance of surface:\")\n",
    "print(f\"\\tMean: {surface_mean}\")\n",
    "print(f\"\\tVariance: {surface_variance}\")\n",
    "\n",
    "print(f\"Sample mean and variance of bathrooms:\")\n",
    "print(f\"\\tMean: {bathrooms_mean}\")\n",
    "print(f\"\\tVariance: {bathrooms_variance}\")\n"
   ]
  },
  {
   "attachments": {},
   "cell_type": "markdown",
   "id": "revolutionary-matrix",
   "metadata": {},
   "source": [
    "#### Exercise 17. What is the most expensive house of each population? You must use the subset obtained in the question 14 (★★☆)\n",
    "\n",
    "Print both the address and the price of the selected house of each population. You can print a DataFrame or a single line for each population"
   ]
  },
  {
   "cell_type": "code",
   "execution_count": 95,
   "id": "fifteen-browse",
   "metadata": {},
   "outputs": [
    {
     "name": "stdout",
     "output_type": "stream",
     "text": [
      "                                           address    price\n",
      "level5                                                     \n",
      "Alcorcón                                  Alcorcón   950000\n",
      "Fuenlabrada  Calle de Paulo Freire, 5, Fuenlabrada   490000\n",
      "Getafe                                      Getafe  1050000\n",
      "Leganés               Avenida Reina Sofía, Leganés   650000\n"
     ]
    }
   ],
   "source": [
    "import pandas as pd\n",
    "\n",
    "\n",
    "# this CSV file contains semicolons instead of comas as separator\n",
    "ds = pd.read_csv('assets/real_estate.csv', sep=';')\n",
    "south_belt = ds[ds['level5'].isin(['Fuenlabrada', 'Leganés', 'Getafe', 'Alcorcón'])]\n",
    "\n",
    "data = south_belt.groupby('level5')\n",
    "\n",
    "most_expensive_houses = data.apply(lambda x: x.sort_values(by='price', ascending=False).iloc[0])\n",
    "\n",
    "# Print the results\n",
    "print(most_expensive_houses[['address', 'price']].to_string())"
   ]
  },
  {
   "attachments": {},
   "cell_type": "markdown",
   "id": "activated-knight",
   "metadata": {},
   "source": [
    "#### Exercise 18. Normalize the variable of prices for each population and plot the 4 histograms in the same plot (you must use the subset obtained in the question 14) (★★★)\n",
    "\n",
    "For the normalization method you can use the one you consider to, there is not a single correct answer to this question. Print the plot and write in the Markdown cell a brief analysis about the plot\n",
    "\n",
    "Hint: You can help yourself reviewing the multihist demo of Matplotlib"
   ]
  },
  {
   "cell_type": "code",
   "execution_count": 128,
   "id": "civic-meditation",
   "metadata": {},
   "outputs": [
    {
     "name": "stderr",
     "output_type": "stream",
     "text": [
      "/tmp/ipykernel_70433/932921466.py:14: SettingWithCopyWarning: \n",
      "A value is trying to be set on a copy of a slice from a DataFrame.\n",
      "Try using .loc[row_indexer,col_indexer] = value instead\n",
      "\n",
      "See the caveats in the documentation: https://pandas.pydata.org/pandas-docs/stable/user_guide/indexing.html#returning-a-view-versus-a-copy\n",
      "  south_belt['price_normalized'] = zscore(south_belt['price'])\n"
     ]
    },
    {
     "data": {
      "image/png": "[encoded data removed]",
      "text/plain": [
       "<Figure size 640x480 with 1 Axes>"
      ]
     },
     "metadata": {},
     "output_type": "display_data"
    }
   ],
   "source": [
    "import pandas as pd\n",
    "import matplotlib.pyplot as plt\n",
    "import numpy as np\n",
    "from scipy.stats import zscore #para la normalización\n",
    "\n",
    "# this CSV file contains semicolons instead of comas as separator\n",
    "ds = pd.read_csv('assets/real_estate.csv', sep=';')\n",
    "\n",
    "south_belt= ds[ds['level5'].isin(['Fuenlabrada', 'Leganés', 'Getafe', 'Alcorcón'])]\n",
    "\n",
    "min_prices = south_belt.groupby('level5')['price'].min()\n",
    "max_prices = south_belt.groupby('level5')['price'].max()\n",
    "\n",
    "south_belt['price_normalized'] = zscore(south_belt['price'])\n",
    "\n",
    "plt.hist(south_belt[south_belt['level5'] == 'Fuenlabrada']['price_normalized'], histtype='step', stacked=True, fill=False, bins=40, alpha=0.8, label='Fuenlabrada')\n",
    "plt.hist(south_belt[south_belt['level5'] == 'Leganés']['price_normalized'], histtype='step', stacked=True, fill=False, bins=40, alpha=0.8, label='Leganés')\n",
    "plt.hist(south_belt[south_belt['level5'] == 'Getafe']['price_normalized'], histtype='step', stacked=True, fill=False, bins=40, alpha=0.8, label='Getafe')\n",
    "plt.hist(south_belt[south_belt['level5'] == 'Alcorcón']['price_normalized'], histtype='step', stacked=True, fill=False, bins=40, alpha=0.8, label='Alcorcón', color = 'black')\n",
    "plt.legend(loc='upper right')\n",
    "plt.xticks(np.arange(-2, 6.2, 0.4))\n",
    "plt.xticks(fontsize=8)\n",
    "plt.tight_layout()\n",
    "plt.show()\n"
   ]
  },
  {
   "attachments": {},
   "cell_type": "markdown",
   "id": "precise-heavy",
   "metadata": {},
   "source": [
    "Fuenlabrada y Leganés tienen una distribución de precios similares, Fuenlabrada tiene una alta proporción de propiedades con bajos precios normalizados, por lo que en Fuenlabrada tiene en promedio las propiedades más accesibles.\n",
    "Alcorcón tiene una alta proporción de propiedades con altos precios normalizados. \n",
    "Getafe tiene una amplia distribución, teniendo el precio normalizado mínimo y también el máximo."
   ]
  },
  {
   "attachments": {},
   "cell_type": "markdown",
   "id": "patent-jonathan",
   "metadata": {},
   "source": [
    "#### Exercise 19. What can you say about the price per square meter (price/m2) between the towns of \"Getafe\" and \"Alcorcón\"? You must use the subset obtained in the question 14 (★★☆)\n",
    "\n",
    "Hint: Create a new column called `pps` (price per square) and then analyse the values"
   ]
  },
  {
   "cell_type": "code",
   "execution_count": 6,
   "id": "initial-liverpool",
   "metadata": {},
   "outputs": [
    {
     "name": "stderr",
     "output_type": "stream",
     "text": [
      "/tmp/ipykernel_729/2105659326.py:8: SettingWithCopyWarning: \n",
      "A value is trying to be set on a copy of a slice from a DataFrame.\n",
      "Try using .loc[row_indexer,col_indexer] = value instead\n",
      "\n",
      "See the caveats in the documentation: https://pandas.pydata.org/pandas-docs/stable/user_guide/indexing.html#returning-a-view-versus-a-copy\n",
      "  south_belt['pps'] = south_belt['price'] / south_belt['surface']\n"
     ]
    },
    {
     "data": {
      "image/png": "[encoded data removed]",
      "text/plain": [
       "<Figure size 640x480 with 1 Axes>"
      ]
     },
     "metadata": {},
     "output_type": "display_data"
    }
   ],
   "source": [
    "import pandas as pd\n",
    "import matplotlib.pyplot as plt\n",
    "\n",
    "# this CSV file contains semicolons instead of comas as separator\n",
    "ds = pd.read_csv('assets/real_estate.csv', sep=';')\n",
    "south_belt = ds[ds['level5'].isin(['Fuenlabrada', 'Leganés', 'Getafe', 'Alcorcón'])]\n",
    "\n",
    "south_belt['pps'] = south_belt['price'] / south_belt['surface']\n",
    "getafe_pps = south_belt[south_belt['level5'] == 'Getafe']['pps']\n",
    "alcorcon_pps = south_belt[south_belt['level5'] == 'Alcorcón']['pps']\n",
    "\n",
    "plt.bar(['Getafe', 'Alcorcón'], [getafe_pps.mean(), alcorcon_pps.mean()])\n",
    "plt.title('Mean Price per Square Meter')\n",
    "plt.xlabel('Location')\n",
    "plt.ylabel('Mean Price per Square Meter (€)')\n",
    "plt.show()\n"
   ]
  },
  {
   "cell_type": "markdown",
   "id": "bee144d6",
   "metadata": {},
   "source": [
    "Entre Getafe y Alcorcón el precio medio del m2 es muy similar, siendo Alcorcón un poco más caro."
   ]
  },
  {
   "attachments": {},
   "cell_type": "markdown",
   "id": "enhanced-moscow",
   "metadata": {},
   "source": [
    "#### Exercise 20. Make the same plot for 4 different populations (level5 column) and rearrange them on the same graph? You must use the subset obtained in the question 14 (★★☆) \n",
    "Hint: make a scatter plot of each population using subplots."
   ]
  },
  {
   "cell_type": "code",
   "execution_count": 22,
   "id": "accepting-airfare",
   "metadata": {},
   "outputs": [
    {
     "data": {
      "image/png": "[encoded data removed]",
      "text/plain": [
       "<Figure size 1000x800 with 4 Axes>"
      ]
     },
     "metadata": {},
     "output_type": "display_data"
    }
   ],
   "source": [
    "import pandas as pd\n",
    "import matplotlib.pyplot as plt\n",
    "\n",
    "# this CSV file contains semicolons instead of comas as separator\n",
    "ds = pd.read_csv('assets/real_estate.csv', sep=';')\n",
    "south_belt = ds[ds['level5'].isin(['Pedrezuela', 'Navalagamella', 'Móstoles', 'Valdemoro'])]\n",
    "\n",
    "fig, axs = plt.subplots(2, 2, figsize=(10, 8)) # 4 histogramas\n",
    "#Arriba izquierda\n",
    "axs[0, 0].scatter(south_belt[south_belt['level5'] == 'Pedrezuela']['price'], south_belt[south_belt['level5'] == 'Pedrezuela']['surface'])\n",
    "axs[0, 0].set_title('Pedrezuela')\n",
    "#Arriba derecha\n",
    "axs[0, 1].scatter(south_belt[south_belt['level5'] == 'Navalagamella']['price'], south_belt[south_belt['level5'] == 'Navalagamella']['surface'])\n",
    "axs[0, 1].set_title('Navalagamella')\n",
    "#Abajo izquierda\n",
    "axs[1, 0].scatter(south_belt[south_belt['level5'] == 'Móstoles']['price'], south_belt[south_belt['level5'] == 'Móstoles']['surface'])\n",
    "axs[1, 0].set_title('Móstoles')\n",
    "\n",
    "#Abajo derecha\n",
    "axs[1, 1].scatter(south_belt[south_belt['level5'] == 'Valdemoro']['price'], south_belt[south_belt['level5'] == 'Valdemoro']['surface'])\n",
    "axs[1, 1].set_title('Valdemoro')\n",
    "\n",
    "fig.text(0.5, 0.04, 'Price', ha='center')\n",
    "fig.text(0.04, 0.5, 'Square Meter', va='center', rotation='vertical')\n",
    "\n",
    "plt.tight_layout()  \n",
    "plt.show()"
   ]
  },
  {
   "cell_type": "markdown",
   "id": "a9a2d758",
   "metadata": {},
   "source": [
    "Se puede apreciar que Móstoles y Valdemoro tienen una gran cantidad de propiedades en venta con respecto a Pedrezuela y Navalagamella.\n",
    "La media de Móstoles es aproximadamente 200000, y la de Valdemoro 150000, esto quiere decir que las propiedades son más accesibles en Valdemoro.\n",
    "Pedrezuela tiene pocas propiedades en venta, teniendo bastante dispersion en el precio de las que tiene.\n",
    "Para Navalagamella sucede algo similar."
   ]
  },
  {
   "attachments": {},
   "cell_type": "markdown",
   "id": "blocked-effects",
   "metadata": {},
   "source": [
    "#### Exercise 21. Make a plot of the coordinates (latitude and longitude columns) of the south belt of Madrid by color of each population (you must use the subset obtained in the question 14) (★★★★)\n",
    "\n",
    "Execute the following cell and then start coding in the next one. You must implement a simple code that transform the coordinates columns in a Python dictionary (add more information if needed) and then add it to the map"
   ]
  },
  {
   "cell_type": "code",
   "execution_count": 6,
   "id": "headed-privacy",
   "metadata": {},
   "outputs": [
    {
     "data": {
      "application/vnd.jupyter.widget-view+json": {
       "model_id": "2f1f90a680c44557b25e1fdc7c538c78",
       "version_major": 2,
       "version_minor": 0
      },
      "text/plain": [
       "Map(center=[40.28674, -3.7], controls=(ZoomControl(options=['position', 'zoom_in_text', 'zoom_in_title', 'zoom…"
      ]
     },
     "execution_count": 6,
     "metadata": {},
     "output_type": "execute_result"
    }
   ],
   "source": [
    "from ipyleaflet import Map, basemaps\n",
    "\n",
    "# Map centred on (60 degrees latitude et -2.2 degrees longitude)\n",
    "# Latitude, longitude\n",
    "map = Map(center = (40.28674, -3.7), zoom = 10, min_zoom = 1, max_zoom = 40, \n",
    "    basemap=basemaps.Stamen.Terrain)\n",
    "map"
   ]
  },
  {
   "cell_type": "code",
   "execution_count": 7,
   "id": "present-mistress",
   "metadata": {},
   "outputs": [
    {
     "data": {
      "application/vnd.jupyter.widget-view+json": {
       "model_id": "2f1f90a680c44557b25e1fdc7c538c78",
       "version_major": 2,
       "version_minor": 0
      },
      "text/plain": [
       "Map(bottom=99034.00001029969, center=[40.4281329031171, -3.6941517896948537], controls=(ZoomControl(options=['…"
      ]
     },
     "execution_count": 7,
     "metadata": {},
     "output_type": "execute_result"
    }
   ],
   "source": [
    "import pandas as pd\n",
    "from ipyleaflet import Map, Marker, basemaps, LayerGroup\n",
    "\n",
    "# this CSV file contains semicolons instead of comas as separator\n",
    "ds = pd.read_csv('assets/real_estate.csv', sep=';')\n",
    "south_belt = ds[ds['level5'].isin(['Fuenlabrada', 'Leganés', 'Getafe', 'Alcorcón'])]\n",
    "south_belt.loc[:, ['latitude', 'longitude']] = south_belt[['latitude', 'longitude']].apply(lambda x: x.str.replace(',', '.'))\n",
    "\n",
    "markers = {}\n",
    "for index, row in south_belt.iterrows():\n",
    "    if row['level5'] not in markers:\n",
    "        markers[row['level5']] = Marker(location=(row['latitude'], row['longitude']), title=row['level5'])\n",
    "    else:\n",
    "        markers[row['level5']].location = (row['latitude'], row['longitude'])\n",
    "\n",
    "#PRUEBA\n",
    "\n",
    "marker = Marker(location=(-31.719102, -55.993220))\n",
    "map.add_layer(marker)\n",
    "\n",
    "for population, marker in markers.items():\n",
    "    map.add_layer(marker)\n",
    "\n",
    "# marker2 = markers['Leganés']\n",
    "# map.add_layer(marker2)\n",
    "\n",
    "# marker3 = markers['Getafe']\n",
    "# map.add_layer(marker3)\n",
    "\n",
    "# marker4 = markers['Alcorcón']\n",
    "# map.add_layer(marker4)\n",
    "        \n",
    "map"
   ]
  }
 ],
 "metadata": {
  "kernelspec": {
   "display_name": "Python 3",
   "language": "python",
   "name": "python3"
  },
  "language_info": {
   "codemirror_mode": {
    "name": "ipython",
    "version": 3
   },
   "file_extension": ".py",
   "mimetype": "text/x-python",
   "name": "python",
   "nbconvert_exporter": "python",
   "pygments_lexer": "ipython3",
   "version": "3.11.4"
  }
 },
 "nbformat": 4,
 "nbformat_minor": 5
}
